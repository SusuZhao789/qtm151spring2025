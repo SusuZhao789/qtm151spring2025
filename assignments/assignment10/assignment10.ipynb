{
 "cells": [
  {
   "attachments": {},
   "cell_type": "markdown",
   "metadata": {},
   "source": [
    "# Assignment 10"
   ]
  },
  {
   "attachments": {},
   "cell_type": "markdown",
   "metadata": {},
   "source": [
    "<font size = \"5\">\n",
    "Print your name below"
   ]
  },
  {
   "cell_type": "code",
   "execution_count": 20,
   "metadata": {},
   "outputs": [
    {
     "name": "stdout",
     "output_type": "stream",
     "text": [
      "Susu Zhao\n"
     ]
    }
   ],
   "source": [
    "print(\"Susu Zhao\")"
   ]
  },
  {
   "cell_type": "markdown",
   "metadata": {},
   "source": [
    "<font size = \"5\">\n",
    "\n",
    "Import pandas package"
   ]
  },
  {
   "cell_type": "code",
   "execution_count": 21,
   "metadata": {},
   "outputs": [],
   "source": [
    "import pandas as pd"
   ]
  },
  {
   "cell_type": "markdown",
   "metadata": {},
   "source": [
    "<font size = \"5\">\n",
    "\n",
    "Import SQL packages"
   ]
  },
  {
   "cell_type": "code",
   "execution_count": 22,
   "metadata": {},
   "outputs": [],
   "source": [
    "# Write your answer here:\n",
    "\n",
    "\n",
    "from sqlalchemy import create_engine\n",
    "from sqlalchemy.engine import URL\n",
    "from sqlalchemy import text\n"
   ]
  },
  {
   "cell_type": "markdown",
   "metadata": {},
   "source": [
    "<font size = \"5\">\n",
    "\n",
    "Establish a connection to the SQL server and database ```postgres``` <br>\n",
    "from Python as done in  class  using <br>\n",
    "```URL()``` and ```create_engine()```<br>\n",
    "As we are are in the default database, you can leave out the database argument.\n",
    "\n",
    "Note: You may have to change some of the login details <br>\n",
    "depending on your computer"
   ]
  },
  {
   "cell_type": "code",
   "execution_count": 23,
   "metadata": {},
   "outputs": [],
   "source": [
    "# Write your answer here:\n",
    "\n",
    "url_server = URL.create(\n",
    "    \"postgresql\",\n",
    "    host = 'localhost',\n",
    "    username = 'postgres',\n",
    "    port = 5432,\n",
    "    password  = '12345')\n",
    "connection = create_engine(url_server)\n"
   ]
  },
  {
   "cell_type": "markdown",
   "metadata": {},
   "source": [
    "\n",
    "<font size = \"5\">\n",
    "\n",
    "(a) Upload dataset to SQL\n",
    "\n",
    "<font size = \"3\">\n",
    "\n",
    "- Read the files ```wdi_2018-2023.xlsx``` in the ```data_raw``` folder. <br>\n",
    "This is a file containing data from the world development indicators for <br>\n",
    "2018-2023.\n",
    "- Upload the data to your local SQL server using the <br>\n",
    "\"to_sql\" command. Call the new dataset ```wdi_data```\n",
    " in the server"
   ]
  },
  {
   "cell_type": "code",
   "execution_count": 24,
   "metadata": {},
   "outputs": [
    {
     "data": {
      "text/plain": [
       "578"
      ]
     },
     "execution_count": 24,
     "metadata": {},
     "output_type": "execute_result"
    }
   ],
   "source": [
    "# Write your own code\n",
    "\n",
    "wdi_data  = pd.read_excel(\"data_raw/wdi_2018-2023.xlsx\")\n",
    "wdi_data.to_sql('wdi_data',\n",
    "               con = connection,\n",
    "               if_exists='replace',\n",
    "               index=False)\n",
    "\n"
   ]
  },
  {
   "cell_type": "markdown",
   "metadata": {},
   "source": [
    "\n",
    "<font size = \"5\">\n",
    "\n",
    "(b) Subset and sort\n",
    "\n",
    "<font size = \"3\">\n",
    "\n",
    "For the following command use ```pd.read_sql()```\n",
    "\n",
    "- Use ```WHERE``` to get a subset of \"wdi_data\" in the SQL server to  <br>\n",
    "which only selects entries related to the USA, <br>\n",
    "using the column \"country_code\"\n",
    "- Chain this with ```ORDER BY year``` to sort in <br>\n",
    "ascending order <br>\n",
    "\n",
    "Hints:\n",
    "- Remember to include a  ```\\```  to be able to define strings over multiple lines\n",
    "- We can include single quotations in the WHERE command <br>\n",
    "without any additional escape characters"
   ]
  },
  {
   "cell_type": "code",
   "execution_count": 29,
   "metadata": {},
   "outputs": [
    {
     "data": {
      "application/vnd.microsoft.datawrangler.viewer.v0+json": {
       "columns": [
        {
         "name": "index",
         "rawType": "int64",
         "type": "integer"
        },
        {
         "name": "year",
         "rawType": "int64",
         "type": "integer"
        },
        {
         "name": "country_name",
         "rawType": "object",
         "type": "string"
        },
        {
         "name": "country_code",
         "rawType": "object",
         "type": "string"
        },
        {
         "name": "prop_urban",
         "rawType": "float64",
         "type": "float"
        }
       ],
       "conversionMethod": "pd.DataFrame",
       "ref": "7f4c6abe-0076-452a-9629-c595fb7cd35e",
       "rows": [
        [
         "0",
         "2018",
         "United States",
         "USA",
         "82.256"
        ],
        [
         "1",
         "2019",
         "United States",
         "USA",
         "82.459"
        ],
        [
         "2",
         "2020",
         "United States",
         "USA",
         "82.664"
        ],
        [
         "3",
         "2021",
         "United States",
         "USA",
         "82.873"
        ],
        [
         "4",
         "2022",
         "United States",
         "USA",
         "83.084"
        ],
        [
         "5",
         "2023",
         "United States",
         "USA",
         "83.298"
        ]
       ],
       "shape": {
        "columns": 4,
        "rows": 6
       }
      },
      "text/html": [
       "<div>\n",
       "<style scoped>\n",
       "    .dataframe tbody tr th:only-of-type {\n",
       "        vertical-align: middle;\n",
       "    }\n",
       "\n",
       "    .dataframe tbody tr th {\n",
       "        vertical-align: top;\n",
       "    }\n",
       "\n",
       "    .dataframe thead th {\n",
       "        text-align: right;\n",
       "    }\n",
       "</style>\n",
       "<table border=\"1\" class=\"dataframe\">\n",
       "  <thead>\n",
       "    <tr style=\"text-align: right;\">\n",
       "      <th></th>\n",
       "      <th>year</th>\n",
       "      <th>country_name</th>\n",
       "      <th>country_code</th>\n",
       "      <th>prop_urban</th>\n",
       "    </tr>\n",
       "  </thead>\n",
       "  <tbody>\n",
       "    <tr>\n",
       "      <th>0</th>\n",
       "      <td>2018</td>\n",
       "      <td>United States</td>\n",
       "      <td>USA</td>\n",
       "      <td>82.256</td>\n",
       "    </tr>\n",
       "    <tr>\n",
       "      <th>1</th>\n",
       "      <td>2019</td>\n",
       "      <td>United States</td>\n",
       "      <td>USA</td>\n",
       "      <td>82.459</td>\n",
       "    </tr>\n",
       "    <tr>\n",
       "      <th>2</th>\n",
       "      <td>2020</td>\n",
       "      <td>United States</td>\n",
       "      <td>USA</td>\n",
       "      <td>82.664</td>\n",
       "    </tr>\n",
       "    <tr>\n",
       "      <th>3</th>\n",
       "      <td>2021</td>\n",
       "      <td>United States</td>\n",
       "      <td>USA</td>\n",
       "      <td>82.873</td>\n",
       "    </tr>\n",
       "    <tr>\n",
       "      <th>4</th>\n",
       "      <td>2022</td>\n",
       "      <td>United States</td>\n",
       "      <td>USA</td>\n",
       "      <td>83.084</td>\n",
       "    </tr>\n",
       "    <tr>\n",
       "      <th>5</th>\n",
       "      <td>2023</td>\n",
       "      <td>United States</td>\n",
       "      <td>USA</td>\n",
       "      <td>83.298</td>\n",
       "    </tr>\n",
       "  </tbody>\n",
       "</table>\n",
       "</div>"
      ],
      "text/plain": [
       "   year   country_name country_code  prop_urban\n",
       "0  2018  United States          USA      82.256\n",
       "1  2019  United States          USA      82.459\n",
       "2  2020  United States          USA      82.664\n",
       "3  2021  United States          USA      82.873\n",
       "4  2022  United States          USA      83.084\n",
       "5  2023  United States          USA      83.298"
      ]
     },
     "execution_count": 29,
     "metadata": {},
     "output_type": "execute_result"
    }
   ],
   "source": [
    "# Write your answer here:\n",
    "wdi_USA = pd.read_sql(text(\"SELECT * \\\n",
    "                             FROM wdi_data \\\n",
    "                             WHERE country_code = 'USA'\\\n",
    "                             ORDER BY year;\"), connection)\n",
    "\n",
    "wdi_USA\n"
   ]
  },
  {
   "cell_type": "markdown",
   "metadata": {},
   "source": [
    "<font size = \"5\">\n",
    "\n",
    "(c) Groupby + Aggregate + Sort\n",
    "\n",
    "<font size = \"3\">\n",
    "\n",
    "For the following command use ```pd.read_sql()```\n",
    "\n",
    "- From ```wdi_data``` obtain the average of \"prop_urban\" <br>\n",
    "by country_name using ```GROUP BY```\n",
    "- Use ```HAVING ``` to filter countries with an <br>\n",
    "average proportion of urban population greater than 40%\n",
    "- Make sure to separate pieces of your logic over seperate lines  by a ```\\```\n",
    "\n",
    "HINT: Use ```HAVING AVG(prop_urban)``` rather than an alias <br>\n",
    "for the code to work correctly.\n"
   ]
  },
  {
   "cell_type": "code",
   "execution_count": 26,
   "metadata": {},
   "outputs": [
    {
     "data": {
      "application/vnd.microsoft.datawrangler.viewer.v0+json": {
       "columns": [
        {
         "name": "index",
         "rawType": "int64",
         "type": "integer"
        },
        {
         "name": "mean_prop",
         "rawType": "float64",
         "type": "float"
        }
       ],
       "conversionMethod": "pd.DataFrame",
       "ref": "57fe39ec-2015-4370-8418-3bf44888c9c5",
       "rows": [
        [
         "0",
         "78.39633333333333"
        ],
        [
         "1",
         "76.09533333333333"
        ],
        [
         "2",
         "91.548"
        ],
        [
         "3",
         "43.38177283932138"
        ],
        [
         "4",
         "88.09733333333334"
        ],
        [
         "5",
         "46.44950262530745"
        ],
        [
         "6",
         "55.79333333333333"
        ],
        [
         "7",
         "82.82483333333333"
        ],
        [
         "8",
         "63.798166666666674"
        ],
        [
         "9",
         "100.0"
        ],
        [
         "10",
         "97.54683333333332"
        ],
        [
         "11",
         "66.57016666666667"
        ],
        [
         "12",
         "94.77666666666666"
        ],
        [
         "13",
         "81.57516666666668"
        ],
        [
         "14",
         "62.50516666666667"
        ],
        [
         "15",
         "69.70066666666666"
        ],
        [
         "16",
         "84.39716666666666"
        ],
        [
         "17",
         "74.664"
        ],
        [
         "18",
         "51.952333333333335"
        ],
        [
         "19",
         "68.38516666666666"
        ],
        [
         "20",
         "80.64211525570386"
        ],
        [
         "21",
         "81.21126283140167"
        ],
        [
         "22",
         "73.97533333333332"
        ],
        [
         "23",
         "40.88733333333333"
        ],
        [
         "24",
         "92.63283333333335"
        ],
        [
         "25",
         "77.40483333333334"
        ],
        [
         "26",
         "44.91833333333333"
        ],
        [
         "27",
         "100.0"
        ],
        [
         "28",
         "54.30773861583851"
        ],
        [
         "29",
         "52.34333333333334"
        ],
        [
         "30",
         "49.23766666666666"
        ],
        [
         "31",
         "48.699000000000005"
        ],
        [
         "32",
         "66.86500000000001"
        ],
        [
         "33",
         "52.334833333333336"
        ],
        [
         "34",
         "68.05416666666666"
        ],
        [
         "35",
         "94.97483333333332"
        ],
        [
         "36",
         "61.921666666666674"
        ],
        [
         "37",
         "61.788881026160254"
        ],
        [
         "38",
         "100.0"
        ],
        [
         "39",
         "71.71233333333333"
        ],
        [
         "40",
         "63.40399999999999"
        ],
        [
         "41",
         "99.25133333333333"
        ],
        [
         "42",
         "41.639664073913266"
        ],
        [
         "43",
         "90.23166666666667"
        ],
        [
         "44",
         "86.30733333333335"
        ],
        [
         "45",
         "71.24333333333334"
        ],
        [
         "46",
         "56.5725"
        ],
        [
         "47",
         "48.725500000000004"
        ],
        [
         "48",
         "80.848"
        ],
        [
         "49",
         "41.641093709372534"
        ]
       ],
       "shape": {
        "columns": 1,
        "rows": 206
       }
      },
      "text/html": [
       "<div>\n",
       "<style scoped>\n",
       "    .dataframe tbody tr th:only-of-type {\n",
       "        vertical-align: middle;\n",
       "    }\n",
       "\n",
       "    .dataframe tbody tr th {\n",
       "        vertical-align: top;\n",
       "    }\n",
       "\n",
       "    .dataframe thead th {\n",
       "        text-align: right;\n",
       "    }\n",
       "</style>\n",
       "<table border=\"1\" class=\"dataframe\">\n",
       "  <thead>\n",
       "    <tr style=\"text-align: right;\">\n",
       "      <th></th>\n",
       "      <th>mean_prop</th>\n",
       "    </tr>\n",
       "  </thead>\n",
       "  <tbody>\n",
       "    <tr>\n",
       "      <th>0</th>\n",
       "      <td>78.396333</td>\n",
       "    </tr>\n",
       "    <tr>\n",
       "      <th>1</th>\n",
       "      <td>76.095333</td>\n",
       "    </tr>\n",
       "    <tr>\n",
       "      <th>2</th>\n",
       "      <td>91.548000</td>\n",
       "    </tr>\n",
       "    <tr>\n",
       "      <th>3</th>\n",
       "      <td>43.381773</td>\n",
       "    </tr>\n",
       "    <tr>\n",
       "      <th>4</th>\n",
       "      <td>88.097333</td>\n",
       "    </tr>\n",
       "    <tr>\n",
       "      <th>...</th>\n",
       "      <td>...</td>\n",
       "    </tr>\n",
       "    <tr>\n",
       "      <th>201</th>\n",
       "      <td>57.499667</td>\n",
       "    </tr>\n",
       "    <tr>\n",
       "      <th>202</th>\n",
       "      <td>100.000000</td>\n",
       "    </tr>\n",
       "    <tr>\n",
       "      <th>203</th>\n",
       "      <td>73.314833</td>\n",
       "    </tr>\n",
       "    <tr>\n",
       "      <th>204</th>\n",
       "      <td>46.440167</td>\n",
       "    </tr>\n",
       "    <tr>\n",
       "      <th>205</th>\n",
       "      <td>87.900833</td>\n",
       "    </tr>\n",
       "  </tbody>\n",
       "</table>\n",
       "<p>206 rows × 1 columns</p>\n",
       "</div>"
      ],
      "text/plain": [
       "      mean_prop\n",
       "0     78.396333\n",
       "1     76.095333\n",
       "2     91.548000\n",
       "3     43.381773\n",
       "4     88.097333\n",
       "..          ...\n",
       "201   57.499667\n",
       "202  100.000000\n",
       "203   73.314833\n",
       "204   46.440167\n",
       "205   87.900833\n",
       "\n",
       "[206 rows x 1 columns]"
      ]
     },
     "execution_count": 26,
     "metadata": {},
     "output_type": "execute_result"
    }
   ],
   "source": [
    "# Write your answer here:\n",
    "avg_prop_urban = pd.read_sql(text(\"SELECT AVG(prop_urban) as mean_prop \\\n",
    "                             FROM wdi_data \\\n",
    "                             GROUP BY \\\"country_name\\\" \\\n",
    "                             HAVING AVG(prop_urban) > 40;\"), connection)\n",
    "\n",
    "avg_prop_urban"
   ]
  },
  {
   "cell_type": "markdown",
   "metadata": {},
   "source": [
    "<font size = \"5\">\n",
    "\n",
    "(d) Groupby + Aggregate\n",
    "\n",
    "<font size = \"3\">\n",
    "\n",
    "(1) Run a query using ```pd.read_sql()```\n",
    "- From ```wdi_data```, obtain the average, minimum, and maximum <br>\n",
    "of \"prop_urban\" by \"year\" using ```GROUP BY```\n",
    "- Use ```ORDER BY ``` to sort by the average of \"avg_prop_urban\"\n",
    "- Make sure to separate pieces of your logic over seperate lines  by a ```\\```\n",
    "- Store the output as a pandas object called ```wdi_grouped```\n",
    "\n",
    "(2) Upload\n",
    "- Reupload the result to the server as ```wdi_grouped_data``` using ```to_sql```"
   ]
  },
  {
   "cell_type": "code",
   "execution_count": 27,
   "metadata": {},
   "outputs": [
    {
     "data": {
      "application/vnd.microsoft.datawrangler.viewer.v0+json": {
       "columns": [
        {
         "name": "index",
         "rawType": "int64",
         "type": "integer"
        },
        {
         "name": "year",
         "rawType": "int64",
         "type": "integer"
        },
        {
         "name": "average",
         "rawType": "float64",
         "type": "float"
        },
        {
         "name": "minimum",
         "rawType": "float64",
         "type": "float"
        },
        {
         "name": "maximum",
         "rawType": "float64",
         "type": "float"
        }
       ],
       "conversionMethod": "pd.DataFrame",
       "ref": "ac72fb03-c871-46a5-9c5a-eccc1c776146",
       "rows": [
        [
         "0",
         "2018",
         "59.73282947015333",
         "13.032",
         "100.0"
        ],
        [
         "1",
         "2019",
         "60.05411937929969",
         "13.25",
         "100.0"
        ],
        [
         "2",
         "2020",
         "60.37962726551563",
         "13.345",
         "100.0"
        ],
        [
         "3",
         "2021",
         "60.707990378646066",
         "13.456",
         "100.0"
        ],
        [
         "4",
         "2022",
         "61.04183814943683",
         "13.582",
         "100.0"
        ],
        [
         "5",
         "2023",
         "61.379118848643714",
         "13.723",
         "100.0"
        ]
       ],
       "shape": {
        "columns": 4,
        "rows": 6
       }
      },
      "text/html": [
       "<div>\n",
       "<style scoped>\n",
       "    .dataframe tbody tr th:only-of-type {\n",
       "        vertical-align: middle;\n",
       "    }\n",
       "\n",
       "    .dataframe tbody tr th {\n",
       "        vertical-align: top;\n",
       "    }\n",
       "\n",
       "    .dataframe thead th {\n",
       "        text-align: right;\n",
       "    }\n",
       "</style>\n",
       "<table border=\"1\" class=\"dataframe\">\n",
       "  <thead>\n",
       "    <tr style=\"text-align: right;\">\n",
       "      <th></th>\n",
       "      <th>year</th>\n",
       "      <th>average</th>\n",
       "      <th>minimum</th>\n",
       "      <th>maximum</th>\n",
       "    </tr>\n",
       "  </thead>\n",
       "  <tbody>\n",
       "    <tr>\n",
       "      <th>0</th>\n",
       "      <td>2018</td>\n",
       "      <td>59.732829</td>\n",
       "      <td>13.032</td>\n",
       "      <td>100.0</td>\n",
       "    </tr>\n",
       "    <tr>\n",
       "      <th>1</th>\n",
       "      <td>2019</td>\n",
       "      <td>60.054119</td>\n",
       "      <td>13.250</td>\n",
       "      <td>100.0</td>\n",
       "    </tr>\n",
       "    <tr>\n",
       "      <th>2</th>\n",
       "      <td>2020</td>\n",
       "      <td>60.379627</td>\n",
       "      <td>13.345</td>\n",
       "      <td>100.0</td>\n",
       "    </tr>\n",
       "    <tr>\n",
       "      <th>3</th>\n",
       "      <td>2021</td>\n",
       "      <td>60.707990</td>\n",
       "      <td>13.456</td>\n",
       "      <td>100.0</td>\n",
       "    </tr>\n",
       "    <tr>\n",
       "      <th>4</th>\n",
       "      <td>2022</td>\n",
       "      <td>61.041838</td>\n",
       "      <td>13.582</td>\n",
       "      <td>100.0</td>\n",
       "    </tr>\n",
       "    <tr>\n",
       "      <th>5</th>\n",
       "      <td>2023</td>\n",
       "      <td>61.379119</td>\n",
       "      <td>13.723</td>\n",
       "      <td>100.0</td>\n",
       "    </tr>\n",
       "  </tbody>\n",
       "</table>\n",
       "</div>"
      ],
      "text/plain": [
       "   year    average  minimum  maximum\n",
       "0  2018  59.732829   13.032    100.0\n",
       "1  2019  60.054119   13.250    100.0\n",
       "2  2020  60.379627   13.345    100.0\n",
       "3  2021  60.707990   13.456    100.0\n",
       "4  2022  61.041838   13.582    100.0\n",
       "5  2023  61.379119   13.723    100.0"
      ]
     },
     "execution_count": 27,
     "metadata": {},
     "output_type": "execute_result"
    }
   ],
   "source": [
    "# Write your own code\n",
    "wdi_grouped_data = pd.read_sql(text(\"SELECT year,\" \\\n",
    "\"                                   AVG(prop_urban) AS average, \\\n",
    "                                    MIN(prop_urban) AS minimum, \\\n",
    "                                    MAX(prop_urban) AS maximum \\\n",
    "                             FROM wdi_data \\\n",
    "                             GROUP BY \\\"year\\\" \\\n",
    "                             ORDER BY average;\"), connection)\n",
    "\n",
    "wdi_grouped_data.to_sql('wdi_grouped_data',\n",
    "               con = connection,\n",
    "               if_exists='replace',\n",
    "               index=False)\n",
    "\n",
    "wdi_grouped_data\n"
   ]
  },
  {
   "cell_type": "markdown",
   "metadata": {},
   "source": [
    "<font size = \"5\">\n",
    "\n",
    "(e) Merge\n",
    "\n",
    "<font size = \"3\">\n",
    "\n",
    "This question depends on your answer to question (d).\n",
    "\n",
    "For the following command use ```pd.read_sql()```\n",
    "\n",
    "- From ```wdi_data```, ```LEFT JOIN``` the dataset ```wdi_grouped_data``` <br>\n",
    "using ```year``` as a merging variable. \n",
    "- Hint: See Lecture on SQL for how to merge datasets\n"
   ]
  },
  {
   "cell_type": "code",
   "execution_count": 28,
   "metadata": {},
   "outputs": [
    {
     "data": {
      "application/vnd.microsoft.datawrangler.viewer.v0+json": {
       "columns": [
        {
         "name": "index",
         "rawType": "int64",
         "type": "integer"
        },
        {
         "name": "year",
         "rawType": "int64",
         "type": "integer"
        },
        {
         "name": "country_name",
         "rawType": "object",
         "type": "string"
        },
        {
         "name": "country_code",
         "rawType": "object",
         "type": "string"
        },
        {
         "name": "prop_urban",
         "rawType": "float64",
         "type": "float"
        },
        {
         "name": "average",
         "rawType": "float64",
         "type": "float"
        },
        {
         "name": "minimum",
         "rawType": "float64",
         "type": "float"
        },
        {
         "name": "maximum",
         "rawType": "float64",
         "type": "float"
        }
       ],
       "conversionMethod": "pd.DataFrame",
       "ref": "f97822e5-eb67-459d-8fe4-c69e20f7564b",
       "rows": [
        [
         "0",
         "2018",
         "Aruba",
         "ABW",
         "43.411",
         "59.73282947015333",
         "13.032",
         "100.0"
        ],
        [
         "1",
         "2018",
         "Africa Eastern and Southern",
         "AFE",
         "35.8933979262181",
         "59.73282947015333",
         "13.032",
         "100.0"
        ],
        [
         "2",
         "2018",
         "Afghanistan",
         "AFG",
         "25.495",
         "59.73282947015333",
         "13.032",
         "100.0"
        ],
        [
         "3",
         "2018",
         "Africa Western and Central",
         "AFW",
         "46.7097526162217",
         "59.73282947015333",
         "13.032",
         "100.0"
        ],
        [
         "4",
         "2018",
         "Angola",
         "AGO",
         "65.514",
         "59.73282947015333",
         "13.032",
         "100.0"
        ],
        [
         "5",
         "2018",
         "Albania",
         "ALB",
         "60.319",
         "59.73282947015333",
         "13.032",
         "100.0"
        ],
        [
         "6",
         "2018",
         "Andorra",
         "AND",
         "88.062",
         "59.73282947015333",
         "13.032",
         "100.0"
        ],
        [
         "7",
         "2018",
         "Arab World",
         "ARB",
         "58.0104842292073",
         "59.73282947015333",
         "13.032",
         "100.0"
        ],
        [
         "8",
         "2018",
         "United Arab Emirates",
         "ARE",
         "86.522",
         "59.73282947015333",
         "13.032",
         "100.0"
        ],
        [
         "9",
         "2018",
         "Argentina",
         "ARG",
         "91.87",
         "59.73282947015333",
         "13.032",
         "100.0"
        ],
        [
         "10",
         "2018",
         "Armenia",
         "ARM",
         "63.149",
         "59.73282947015333",
         "13.032",
         "100.0"
        ],
        [
         "11",
         "2018",
         "American Samoa",
         "ASM",
         "87.153",
         "59.73282947015333",
         "13.032",
         "100.0"
        ],
        [
         "12",
         "2018",
         "Antigua and Barbuda",
         "ATG",
         "24.599",
         "59.73282947015333",
         "13.032",
         "100.0"
        ],
        [
         "13",
         "2018",
         "Australia",
         "AUS",
         "86.012",
         "59.73282947015333",
         "13.032",
         "100.0"
        ],
        [
         "14",
         "2018",
         "Austria",
         "AUT",
         "58.297",
         "59.73282947015333",
         "13.032",
         "100.0"
        ],
        [
         "15",
         "2018",
         "Azerbaijan",
         "AZE",
         "55.68",
         "59.73282947015333",
         "13.032",
         "100.0"
        ],
        [
         "16",
         "2018",
         "Burundi",
         "BDI",
         "13.032",
         "59.73282947015333",
         "13.032",
         "100.0"
        ],
        [
         "17",
         "2018",
         "Belgium",
         "BEL",
         "98.001",
         "59.73282947015333",
         "13.032",
         "100.0"
        ],
        [
         "18",
         "2018",
         "Benin",
         "BEN",
         "47.312",
         "59.73282947015333",
         "13.032",
         "100.0"
        ],
        [
         "19",
         "2018",
         "Burkina Faso",
         "BFA",
         "29.358",
         "59.73282947015333",
         "13.032",
         "100.0"
        ],
        [
         "20",
         "2018",
         "Bangladesh",
         "BGD",
         "36.632",
         "59.73282947015333",
         "13.032",
         "100.0"
        ],
        [
         "21",
         "2018",
         "Bulgaria",
         "BGR",
         "75.008",
         "59.73282947015333",
         "13.032",
         "100.0"
        ],
        [
         "22",
         "2018",
         "Bahrain",
         "BHR",
         "89.287",
         "59.73282947015333",
         "13.032",
         "100.0"
        ],
        [
         "23",
         "2018",
         "Bahamas, The",
         "BHS",
         "83.025",
         "59.73282947015333",
         "13.032",
         "100.0"
        ],
        [
         "24",
         "2018",
         "Bosnia and Herzegovina",
         "BIH",
         "48.245",
         "59.73282947015333",
         "13.032",
         "100.0"
        ],
        [
         "25",
         "2018",
         "Belarus",
         "BLR",
         "78.595",
         "59.73282947015333",
         "13.032",
         "100.0"
        ],
        [
         "26",
         "2018",
         "Belize",
         "BLZ",
         "45.724",
         "59.73282947015333",
         "13.032",
         "100.0"
        ],
        [
         "27",
         "2018",
         "Bermuda",
         "BMU",
         "100.0",
         "59.73282947015333",
         "13.032",
         "100.0"
        ],
        [
         "28",
         "2018",
         "Bolivia",
         "BOL",
         "69.425",
         "59.73282947015333",
         "13.032",
         "100.0"
        ],
        [
         "29",
         "2018",
         "Brazil",
         "BRA",
         "86.569",
         "59.73282947015333",
         "13.032",
         "100.0"
        ],
        [
         "30",
         "2018",
         "Barbados",
         "BRB",
         "31.147",
         "59.73282947015333",
         "13.032",
         "100.0"
        ],
        [
         "31",
         "2018",
         "Brunei Darussalam",
         "BRN",
         "77.629",
         "59.73282947015333",
         "13.032",
         "100.0"
        ],
        [
         "32",
         "2018",
         "Bhutan",
         "BTN",
         "40.895",
         "59.73282947015333",
         "13.032",
         "100.0"
        ],
        [
         "33",
         "2018",
         "Botswana",
         "BWA",
         "69.446",
         "59.73282947015333",
         "13.032",
         "100.0"
        ],
        [
         "34",
         "2018",
         "Central African Republic",
         "CAF",
         "41.364",
         "59.73282947015333",
         "13.032",
         "100.0"
        ],
        [
         "35",
         "2018",
         "Canada",
         "CAN",
         "81.411",
         "59.73282947015333",
         "13.032",
         "100.0"
        ],
        [
         "36",
         "2018",
         "Central Europe and the Baltics",
         "CEB",
         "62.3388759895791",
         "59.73282947015333",
         "13.032",
         "100.0"
        ],
        [
         "37",
         "2018",
         "Switzerland",
         "CHE",
         "73.797",
         "59.73282947015333",
         "13.032",
         "100.0"
        ],
        [
         "38",
         "2018",
         "Channel Islands",
         "CHI",
         "30.914",
         "59.73282947015333",
         "13.032",
         "100.0"
        ],
        [
         "39",
         "2018",
         "Chile",
         "CHL",
         "87.564",
         "59.73282947015333",
         "13.032",
         "100.0"
        ],
        [
         "40",
         "2018",
         "China",
         "CHN",
         "59.152",
         "59.73282947015333",
         "13.032",
         "100.0"
        ],
        [
         "41",
         "2018",
         "Cote d'Ivoire",
         "CIV",
         "50.779",
         "59.73282947015333",
         "13.032",
         "100.0"
        ],
        [
         "42",
         "2018",
         "Cameroon",
         "CMR",
         "56.374",
         "59.73282947015333",
         "13.032",
         "100.0"
        ],
        [
         "43",
         "2018",
         "Congo, Dem. Rep.",
         "COD",
         "44.46",
         "59.73282947015333",
         "13.032",
         "100.0"
        ],
        [
         "44",
         "2018",
         "Congo, Rep.",
         "COG",
         "66.916",
         "59.73282947015333",
         "13.032",
         "100.0"
        ],
        [
         "45",
         "2018",
         "Colombia",
         "COL",
         "80.778",
         "59.73282947015333",
         "13.032",
         "100.0"
        ],
        [
         "46",
         "2018",
         "Comoros",
         "COM",
         "28.965",
         "59.73282947015333",
         "13.032",
         "100.0"
        ],
        [
         "47",
         "2018",
         "Cabo Verde",
         "CPV",
         "65.732",
         "59.73282947015333",
         "13.032",
         "100.0"
        ],
        [
         "48",
         "2018",
         "Costa Rica",
         "CRI",
         "79.34",
         "59.73282947015333",
         "13.032",
         "100.0"
        ],
        [
         "49",
         "2018",
         "Caribbean small states",
         "CSS",
         "46.2088839898113",
         "59.73282947015333",
         "13.032",
         "100.0"
        ]
       ],
       "shape": {
        "columns": 7,
        "rows": 1578
       }
      },
      "text/html": [
       "<div>\n",
       "<style scoped>\n",
       "    .dataframe tbody tr th:only-of-type {\n",
       "        vertical-align: middle;\n",
       "    }\n",
       "\n",
       "    .dataframe tbody tr th {\n",
       "        vertical-align: top;\n",
       "    }\n",
       "\n",
       "    .dataframe thead th {\n",
       "        text-align: right;\n",
       "    }\n",
       "</style>\n",
       "<table border=\"1\" class=\"dataframe\">\n",
       "  <thead>\n",
       "    <tr style=\"text-align: right;\">\n",
       "      <th></th>\n",
       "      <th>year</th>\n",
       "      <th>country_name</th>\n",
       "      <th>country_code</th>\n",
       "      <th>prop_urban</th>\n",
       "      <th>average</th>\n",
       "      <th>minimum</th>\n",
       "      <th>maximum</th>\n",
       "    </tr>\n",
       "  </thead>\n",
       "  <tbody>\n",
       "    <tr>\n",
       "      <th>0</th>\n",
       "      <td>2018</td>\n",
       "      <td>Aruba</td>\n",
       "      <td>ABW</td>\n",
       "      <td>43.411000</td>\n",
       "      <td>59.732829</td>\n",
       "      <td>13.032</td>\n",
       "      <td>100.0</td>\n",
       "    </tr>\n",
       "    <tr>\n",
       "      <th>1</th>\n",
       "      <td>2018</td>\n",
       "      <td>Africa Eastern and Southern</td>\n",
       "      <td>AFE</td>\n",
       "      <td>35.893398</td>\n",
       "      <td>59.732829</td>\n",
       "      <td>13.032</td>\n",
       "      <td>100.0</td>\n",
       "    </tr>\n",
       "    <tr>\n",
       "      <th>2</th>\n",
       "      <td>2018</td>\n",
       "      <td>Afghanistan</td>\n",
       "      <td>AFG</td>\n",
       "      <td>25.495000</td>\n",
       "      <td>59.732829</td>\n",
       "      <td>13.032</td>\n",
       "      <td>100.0</td>\n",
       "    </tr>\n",
       "    <tr>\n",
       "      <th>3</th>\n",
       "      <td>2018</td>\n",
       "      <td>Africa Western and Central</td>\n",
       "      <td>AFW</td>\n",
       "      <td>46.709753</td>\n",
       "      <td>59.732829</td>\n",
       "      <td>13.032</td>\n",
       "      <td>100.0</td>\n",
       "    </tr>\n",
       "    <tr>\n",
       "      <th>4</th>\n",
       "      <td>2018</td>\n",
       "      <td>Angola</td>\n",
       "      <td>AGO</td>\n",
       "      <td>65.514000</td>\n",
       "      <td>59.732829</td>\n",
       "      <td>13.032</td>\n",
       "      <td>100.0</td>\n",
       "    </tr>\n",
       "    <tr>\n",
       "      <th>...</th>\n",
       "      <td>...</td>\n",
       "      <td>...</td>\n",
       "      <td>...</td>\n",
       "      <td>...</td>\n",
       "      <td>...</td>\n",
       "      <td>...</td>\n",
       "      <td>...</td>\n",
       "    </tr>\n",
       "    <tr>\n",
       "      <th>1573</th>\n",
       "      <td>2023</td>\n",
       "      <td>Samoa</td>\n",
       "      <td>WSM</td>\n",
       "      <td>17.508000</td>\n",
       "      <td>61.379119</td>\n",
       "      <td>13.723</td>\n",
       "      <td>100.0</td>\n",
       "    </tr>\n",
       "    <tr>\n",
       "      <th>1574</th>\n",
       "      <td>2023</td>\n",
       "      <td>Yemen, Rep.</td>\n",
       "      <td>YEM</td>\n",
       "      <td>39.831000</td>\n",
       "      <td>61.379119</td>\n",
       "      <td>13.723</td>\n",
       "      <td>100.0</td>\n",
       "    </tr>\n",
       "    <tr>\n",
       "      <th>1575</th>\n",
       "      <td>2023</td>\n",
       "      <td>South Africa</td>\n",
       "      <td>ZAF</td>\n",
       "      <td>68.819000</td>\n",
       "      <td>61.379119</td>\n",
       "      <td>13.723</td>\n",
       "      <td>100.0</td>\n",
       "    </tr>\n",
       "    <tr>\n",
       "      <th>1576</th>\n",
       "      <td>2023</td>\n",
       "      <td>Zambia</td>\n",
       "      <td>ZMB</td>\n",
       "      <td>46.335000</td>\n",
       "      <td>61.379119</td>\n",
       "      <td>13.723</td>\n",
       "      <td>100.0</td>\n",
       "    </tr>\n",
       "    <tr>\n",
       "      <th>1577</th>\n",
       "      <td>2023</td>\n",
       "      <td>Zimbabwe</td>\n",
       "      <td>ZWE</td>\n",
       "      <td>32.517000</td>\n",
       "      <td>61.379119</td>\n",
       "      <td>13.723</td>\n",
       "      <td>100.0</td>\n",
       "    </tr>\n",
       "  </tbody>\n",
       "</table>\n",
       "<p>1578 rows × 7 columns</p>\n",
       "</div>"
      ],
      "text/plain": [
       "      year                 country_name country_code  prop_urban    average  \\\n",
       "0     2018                        Aruba          ABW   43.411000  59.732829   \n",
       "1     2018  Africa Eastern and Southern          AFE   35.893398  59.732829   \n",
       "2     2018                  Afghanistan          AFG   25.495000  59.732829   \n",
       "3     2018   Africa Western and Central          AFW   46.709753  59.732829   \n",
       "4     2018                       Angola          AGO   65.514000  59.732829   \n",
       "...    ...                          ...          ...         ...        ...   \n",
       "1573  2023                        Samoa          WSM   17.508000  61.379119   \n",
       "1574  2023                  Yemen, Rep.          YEM   39.831000  61.379119   \n",
       "1575  2023                 South Africa          ZAF   68.819000  61.379119   \n",
       "1576  2023                       Zambia          ZMB   46.335000  61.379119   \n",
       "1577  2023                     Zimbabwe          ZWE   32.517000  61.379119   \n",
       "\n",
       "      minimum  maximum  \n",
       "0      13.032    100.0  \n",
       "1      13.032    100.0  \n",
       "2      13.032    100.0  \n",
       "3      13.032    100.0  \n",
       "4      13.032    100.0  \n",
       "...       ...      ...  \n",
       "1573   13.723    100.0  \n",
       "1574   13.723    100.0  \n",
       "1575   13.723    100.0  \n",
       "1576   13.723    100.0  \n",
       "1577   13.723    100.0  \n",
       "\n",
       "[1578 rows x 7 columns]"
      ]
     },
     "execution_count": 28,
     "metadata": {},
     "output_type": "execute_result"
    }
   ],
   "source": [
    "# Write your own code\n",
    "wdi_merged = pd.read_sql(text(\"SELECT wdi_data.*, \\\n",
    "                                     wdi_grouped_data.average, \\\n",
    "                                     wdi_grouped_data.minimum, \\\n",
    "                                     wdi_grouped_data.maximum \\\n",
    "                              FROM wdi_data \\\n",
    "                              LEFT JOIN wdi_grouped_data \\\n",
    "                              ON wdi_data.year = wdi_grouped_data.year;\"), connection)\n",
    "wdi_merged\n"
   ]
  }
 ],
 "metadata": {
  "kernelspec": {
   "display_name": "base",
   "language": "python",
   "name": "python3"
  },
  "language_info": {
   "codemirror_mode": {
    "name": "ipython",
    "version": 3
   },
   "file_extension": ".py",
   "mimetype": "text/x-python",
   "name": "python",
   "nbconvert_exporter": "python",
   "pygments_lexer": "ipython3",
   "version": "3.12.7"
  },
  "orig_nbformat": 4
 },
 "nbformat": 4,
 "nbformat_minor": 2
}
