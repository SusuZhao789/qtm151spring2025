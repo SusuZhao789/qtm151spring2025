{
 "cells": [
  {
   "cell_type": "markdown",
   "metadata": {},
   "source": [
    "# Final Project Group 6 Section 1 \n",
    "##### Project members: Eric Zhang, Kaitlyn Kaminuma, Susu Zhao, Supitchaya Phongkusonjit "
   ]
  },
  {
   "cell_type": "markdown",
   "metadata": {},
   "source": [
    "<span style=\"color: darkblue; font-size: 30px;\">Introduction</span>"
   ]
  },
  {
   "cell_type": "markdown",
   "metadata": {},
   "source": [
    "Formula One is the highest level of international motor racing for single-seater, open-wheel race cars. It is known for its speed, advanced technology, and global popularity. Each race, known as a Grand Prix, is held at different locations around the world. The season runs from March to December, with drivers competing for points toward a World Championship title. In our project, we chose to focus on pit stops, a crucial and highly strategic part of every race. A pit stop occurs when a driver pulls into a designated lane off the track to quickly change tires or make necessary repairs to the car. Pit stops require the synchronized efforts of a highly trained crew and must be completed in just a few seconds. Any delay during a pit stop can cost a driver several positions in the race. Although the stationary tire change takes only 2-3 seconds, pit stop duration in this dataset measures the total amount of time a Formula One car spends in the pit lane during a pit stop, including entering, servicing, and exiting. Our main question is how pit stop performance has changed over time and how it varies between different teams. This is relevant in understanding if technological advancements, better training, and improved strategies have led to faster and more consistent pit stops. The pit stops dataset is important because pit stop duration, although brief, can have a major impact on the final outcome of a race. It can provide valuable indications of changes in strategy, human skill, and mechanical precision.\n",
    "\n",
    "Our findings show that pit stop durations have generally increased over time, with noticeable peaks during the fall season, particularly in September and October. We also found that pit stop times are fairly consistent across different nationality teams. Furthermore, pit stop duration shows variation between different Grand Prix locations. This suggests that differences in pit stop duration are more influenced by race and track conditions rather than team-specific performance. The structure of this project will begin with a description of the pit stops dataset, followed by an analysis of the results, and will conclude with a discussion of the implications of our findings.\n"
   ]
  },
  {
   "cell_type": "markdown",
   "metadata": {},
   "source": [
    "<span style=\"color: darkblue; font-size: 30px;\">Data Description</span>"
   ]
  },
  {
   "cell_type": "markdown",
   "metadata": {},
   "source": [
    "We will be using 5 dataset tables in total: races, pit_stops, constructors, drivers, constructor_standings. The races table (1102 observations) contains information about each Grand Prix event, including the race name, location, date, and the season (year) it took place. Each race has a unique ID. The pit_stops table (9634 observations) records detailed data on each pit stop during races, such as the driver, race ID, lap number, stop duration, and the time it occurred in the race. The constructors table (211 observations) lists all Formula One teams (known as constructors), providing details like the constructor’s name, nationality, and a unique constructor ID. The drivers table (857 observations) includes information about the drivers, such as their full name, date of birth, nationality, and a unique driver ID. The constructor_standings table tracks how constructors (teams) ranked over the course of a season, including their points, wins, and position in the constructor’s championship standings after each race. Datasets contain data between the years 2009-2023 (pit stops dataset only contains data from years 2011-2023)."
   ]
  },
  {
   "cell_type": "code",
   "execution_count": 39,
   "metadata": {},
   "outputs": [],
   "source": [
    "#import libraries\n",
    "\n",
    "import numpy as np\n",
    "import pandas as pd\n",
    "import matplotlib.pyplot as plt\n",
    "import seaborn as sns"
   ]
  },
  {
   "cell_type": "markdown",
   "metadata": {},
   "source": [
    "<span style=\"color: green; font-size: 25px;\">Importing Datasets</span>"
   ]
  },
  {
   "cell_type": "code",
   "execution_count": null,
   "metadata": {},
   "outputs": [
    {
     "name": "stdout",
     "output_type": "stream",
     "text": [
      "1102\n",
      "9634\n",
      "211\n",
      "857\n",
      "12941\n"
     ]
    },
    {
     "data": {
      "application/vnd.microsoft.datawrangler.viewer.v0+json": {
       "columns": [
        {
         "name": "year",
         "rawType": "int64",
         "type": "integer"
        },
        {
         "name": "min_year",
         "rawType": "int64",
         "type": "integer"
        },
        {
         "name": "max_year",
         "rawType": "int64",
         "type": "integer"
        }
       ],
       "conversionMethod": "pd.DataFrame",
       "ref": "a6e497fc-89f0-428c-af70-4702329d496a",
       "rows": [
        [
         "1950",
         "1950",
         "1950"
        ],
        [
         "1951",
         "1951",
         "1951"
        ],
        [
         "1952",
         "1952",
         "1952"
        ],
        [
         "1953",
         "1953",
         "1953"
        ],
        [
         "1954",
         "1954",
         "1954"
        ],
        [
         "1955",
         "1955",
         "1955"
        ],
        [
         "1956",
         "1956",
         "1956"
        ],
        [
         "1957",
         "1957",
         "1957"
        ],
        [
         "1958",
         "1958",
         "1958"
        ],
        [
         "1959",
         "1959",
         "1959"
        ],
        [
         "1960",
         "1960",
         "1960"
        ],
        [
         "1961",
         "1961",
         "1961"
        ],
        [
         "1962",
         "1962",
         "1962"
        ],
        [
         "1963",
         "1963",
         "1963"
        ],
        [
         "1964",
         "1964",
         "1964"
        ],
        [
         "1965",
         "1965",
         "1965"
        ],
        [
         "1966",
         "1966",
         "1966"
        ],
        [
         "1967",
         "1967",
         "1967"
        ],
        [
         "1968",
         "1968",
         "1968"
        ],
        [
         "1969",
         "1969",
         "1969"
        ],
        [
         "1970",
         "1970",
         "1970"
        ],
        [
         "1971",
         "1971",
         "1971"
        ],
        [
         "1972",
         "1972",
         "1972"
        ],
        [
         "1973",
         "1973",
         "1973"
        ],
        [
         "1974",
         "1974",
         "1974"
        ],
        [
         "1975",
         "1975",
         "1975"
        ],
        [
         "1976",
         "1976",
         "1976"
        ],
        [
         "1977",
         "1977",
         "1977"
        ],
        [
         "1978",
         "1978",
         "1978"
        ],
        [
         "1979",
         "1979",
         "1979"
        ],
        [
         "1980",
         "1980",
         "1980"
        ],
        [
         "1981",
         "1981",
         "1981"
        ],
        [
         "1982",
         "1982",
         "1982"
        ],
        [
         "1983",
         "1983",
         "1983"
        ],
        [
         "1984",
         "1984",
         "1984"
        ],
        [
         "1985",
         "1985",
         "1985"
        ],
        [
         "1986",
         "1986",
         "1986"
        ],
        [
         "1987",
         "1987",
         "1987"
        ],
        [
         "1988",
         "1988",
         "1988"
        ],
        [
         "1989",
         "1989",
         "1989"
        ],
        [
         "1990",
         "1990",
         "1990"
        ],
        [
         "1991",
         "1991",
         "1991"
        ],
        [
         "1992",
         "1992",
         "1992"
        ],
        [
         "1993",
         "1993",
         "1993"
        ],
        [
         "1994",
         "1994",
         "1994"
        ],
        [
         "1995",
         "1995",
         "1995"
        ],
        [
         "1996",
         "1996",
         "1996"
        ],
        [
         "1997",
         "1997",
         "1997"
        ],
        [
         "1998",
         "1998",
         "1998"
        ],
        [
         "1999",
         "1999",
         "1999"
        ]
       ],
       "shape": {
        "columns": 2,
        "rows": 74
       }
      },
      "text/html": [
       "<div>\n",
       "<style scoped>\n",
       "    .dataframe tbody tr th:only-of-type {\n",
       "        vertical-align: middle;\n",
       "    }\n",
       "\n",
       "    .dataframe tbody tr th {\n",
       "        vertical-align: top;\n",
       "    }\n",
       "\n",
       "    .dataframe thead th {\n",
       "        text-align: right;\n",
       "    }\n",
       "</style>\n",
       "<table border=\"1\" class=\"dataframe\">\n",
       "  <thead>\n",
       "    <tr style=\"text-align: right;\">\n",
       "      <th></th>\n",
       "      <th>min_year</th>\n",
       "      <th>max_year</th>\n",
       "    </tr>\n",
       "    <tr>\n",
       "      <th>year</th>\n",
       "      <th></th>\n",
       "      <th></th>\n",
       "    </tr>\n",
       "  </thead>\n",
       "  <tbody>\n",
       "    <tr>\n",
       "      <th>1950</th>\n",
       "      <td>1950</td>\n",
       "      <td>1950</td>\n",
       "    </tr>\n",
       "    <tr>\n",
       "      <th>1951</th>\n",
       "      <td>1951</td>\n",
       "      <td>1951</td>\n",
       "    </tr>\n",
       "    <tr>\n",
       "      <th>1952</th>\n",
       "      <td>1952</td>\n",
       "      <td>1952</td>\n",
       "    </tr>\n",
       "    <tr>\n",
       "      <th>1953</th>\n",
       "      <td>1953</td>\n",
       "      <td>1953</td>\n",
       "    </tr>\n",
       "    <tr>\n",
       "      <th>1954</th>\n",
       "      <td>1954</td>\n",
       "      <td>1954</td>\n",
       "    </tr>\n",
       "    <tr>\n",
       "      <th>...</th>\n",
       "      <td>...</td>\n",
       "      <td>...</td>\n",
       "    </tr>\n",
       "    <tr>\n",
       "      <th>2019</th>\n",
       "      <td>2019</td>\n",
       "      <td>2019</td>\n",
       "    </tr>\n",
       "    <tr>\n",
       "      <th>2020</th>\n",
       "      <td>2020</td>\n",
       "      <td>2020</td>\n",
       "    </tr>\n",
       "    <tr>\n",
       "      <th>2021</th>\n",
       "      <td>2021</td>\n",
       "      <td>2021</td>\n",
       "    </tr>\n",
       "    <tr>\n",
       "      <th>2022</th>\n",
       "      <td>2022</td>\n",
       "      <td>2022</td>\n",
       "    </tr>\n",
       "    <tr>\n",
       "      <th>2023</th>\n",
       "      <td>2023</td>\n",
       "      <td>2023</td>\n",
       "    </tr>\n",
       "  </tbody>\n",
       "</table>\n",
       "<p>74 rows × 2 columns</p>\n",
       "</div>"
      ],
      "text/plain": [
       "      min_year  max_year\n",
       "year                    \n",
       "1950      1950      1950\n",
       "1951      1951      1951\n",
       "1952      1952      1952\n",
       "1953      1953      1953\n",
       "1954      1954      1954\n",
       "...        ...       ...\n",
       "2019      2019      2019\n",
       "2020      2020      2020\n",
       "2021      2021      2021\n",
       "2022      2022      2022\n",
       "2023      2023      2023\n",
       "\n",
       "[74 rows x 2 columns]"
      ]
     },
     "execution_count": 61,
     "metadata": {},
     "output_type": "execute_result"
    }
   ],
   "source": [
    "races = pd.read_csv(\"data_raw/races.csv\")\n",
    "pit_stops = pd.read_csv(\"data_raw/pit_stops.csv\")\n",
    "constructors = pd.read_csv(\"data_raw/constructors.csv\")\n",
    "drivers = pd.read_csv(\"data_raw/drivers.csv\")\n",
    "constructor_standings = pd.read_csv(\"data_raw/constructor_standings.csv\")\n",
    "\n",
    "print(len(races))\n",
    "print(len(pit_stops))\n",
    "print(len(constructors))\n",
    "print(len(drivers))\n",
    "print(len(constructor_standings))\n"
   ]
  },
  {
   "cell_type": "markdown",
   "metadata": {},
   "source": [
    "<span style=\"color: green; font-size: 25px;\">Merging Datasets</span>"
   ]
  },
  {
   "cell_type": "markdown",
   "metadata": {},
   "source": [
    "First, the pit_stops dataset was merged with the constructor_standings dataset using a left join on the raceId column, creating the merged_pitstop_construsstanding dataset. Next, this merged dataset was combined with the constructors dataset using a left join on the constructorId column. Separately, the pit_stops dataset was also merged with the races dataset on raceId using a left join to incorporate race information, creating the pit_stops_races_merge dataset. Finally, the pit_stops dataset was merged with the results dataset on raceId using a left join, resulting in the pit_stops_result_merge dataset. These merging steps ensured that pit stop data could be analyzed alongside team standings, constructor details, race information, and race results. \n"
   ]
  },
  {
   "cell_type": "code",
   "execution_count": 41,
   "metadata": {},
   "outputs": [],
   "source": [
    "#Merging the \"pit_stops\" dataset and the \"races\" dataset together\n",
    "pit_stops_races_merge = pd.merge(pit_stops, \n",
    "                                 races[[\"raceId\",\"year\", \"date\",\"name\"]],\n",
    "                                 on = \"raceId\",\n",
    "                                 how = \"left\")\n",
    "\n",
    "#pit_stops_merge to pit_stops_races_merge"
   ]
  },
  {
   "cell_type": "code",
   "execution_count": 42,
   "metadata": {},
   "outputs": [],
   "source": [
    "# Merging the \"pit_stops\" dataset and the \"drivers\" dataset\n",
    "pit_stops_drivers_merge = pd.merge(pit_stops, drivers, on=\"driverId\", how=\"left\")\n",
    "\n",
    "#merge1 to pit_stops_drivers_merge"
   ]
  },
  {
   "cell_type": "code",
   "execution_count": 43,
   "metadata": {},
   "outputs": [
    {
     "data": {
      "application/vnd.microsoft.datawrangler.viewer.v0+json": {
       "columns": [
        {
         "name": "index",
         "rawType": "int64",
         "type": "integer"
        },
        {
         "name": "constructorId",
         "rawType": "int64",
         "type": "integer"
        },
        {
         "name": "duration",
         "rawType": "object",
         "type": "string"
        },
        {
         "name": "name",
         "rawType": "object",
         "type": "string"
        }
       ],
       "conversionMethod": "pd.DataFrame",
       "ref": "73d7ecb5-5a5a-4063-9a97-fb77be3822fb",
       "rows": [
        [
         "0",
         "131",
         "26.898",
         "Mercedes"
        ],
        [
         "1",
         "3",
         "26.898",
         "Williams"
        ],
        [
         "2",
         "166",
         "26.898",
         "Virgin"
        ],
        [
         "3",
         "205",
         "26.898",
         "Lotus"
        ],
        [
         "4",
         "10",
         "26.898",
         "Force India"
        ],
        [
         "5",
         "5",
         "26.898",
         "Toro Rosso"
        ],
        [
         "6",
         "6",
         "26.898",
         "Ferrari"
        ],
        [
         "7",
         "4",
         "26.898",
         "Renault"
        ],
        [
         "8",
         "1",
         "26.898",
         "McLaren"
        ],
        [
         "9",
         "9",
         "26.898",
         "Red Bull"
        ],
        [
         "10",
         "131",
         "25.021",
         "Mercedes"
        ],
        [
         "11",
         "3",
         "25.021",
         "Williams"
        ],
        [
         "12",
         "166",
         "25.021",
         "Virgin"
        ],
        [
         "13",
         "205",
         "25.021",
         "Lotus"
        ],
        [
         "14",
         "10",
         "25.021",
         "Force India"
        ],
        [
         "15",
         "5",
         "25.021",
         "Toro Rosso"
        ],
        [
         "16",
         "6",
         "25.021",
         "Ferrari"
        ],
        [
         "17",
         "4",
         "25.021",
         "Renault"
        ],
        [
         "18",
         "1",
         "25.021",
         "McLaren"
        ],
        [
         "19",
         "9",
         "25.021",
         "Red Bull"
        ],
        [
         "20",
         "131",
         "23.426",
         "Mercedes"
        ],
        [
         "21",
         "3",
         "23.426",
         "Williams"
        ],
        [
         "22",
         "166",
         "23.426",
         "Virgin"
        ],
        [
         "23",
         "205",
         "23.426",
         "Lotus"
        ],
        [
         "24",
         "10",
         "23.426",
         "Force India"
        ],
        [
         "25",
         "5",
         "23.426",
         "Toro Rosso"
        ],
        [
         "26",
         "6",
         "23.426",
         "Ferrari"
        ],
        [
         "27",
         "4",
         "23.426",
         "Renault"
        ],
        [
         "28",
         "1",
         "23.426",
         "McLaren"
        ],
        [
         "29",
         "9",
         "23.426",
         "Red Bull"
        ],
        [
         "30",
         "131",
         "23.251",
         "Mercedes"
        ],
        [
         "31",
         "3",
         "23.251",
         "Williams"
        ],
        [
         "32",
         "166",
         "23.251",
         "Virgin"
        ],
        [
         "33",
         "205",
         "23.251",
         "Lotus"
        ],
        [
         "34",
         "10",
         "23.251",
         "Force India"
        ],
        [
         "35",
         "5",
         "23.251",
         "Toro Rosso"
        ],
        [
         "36",
         "6",
         "23.251",
         "Ferrari"
        ],
        [
         "37",
         "4",
         "23.251",
         "Renault"
        ],
        [
         "38",
         "1",
         "23.251",
         "McLaren"
        ],
        [
         "39",
         "9",
         "23.251",
         "Red Bull"
        ],
        [
         "40",
         "131",
         "23.842",
         "Mercedes"
        ],
        [
         "41",
         "3",
         "23.842",
         "Williams"
        ],
        [
         "42",
         "166",
         "23.842",
         "Virgin"
        ],
        [
         "43",
         "205",
         "23.842",
         "Lotus"
        ],
        [
         "44",
         "10",
         "23.842",
         "Force India"
        ],
        [
         "45",
         "5",
         "23.842",
         "Toro Rosso"
        ],
        [
         "46",
         "6",
         "23.842",
         "Ferrari"
        ],
        [
         "47",
         "4",
         "23.842",
         "Renault"
        ],
        [
         "48",
         "1",
         "23.842",
         "McLaren"
        ],
        [
         "49",
         "9",
         "23.842",
         "Red Bull"
        ]
       ],
       "shape": {
        "columns": 3,
        "rows": 103068
       }
      },
      "text/html": [
       "<div>\n",
       "<style scoped>\n",
       "    .dataframe tbody tr th:only-of-type {\n",
       "        vertical-align: middle;\n",
       "    }\n",
       "\n",
       "    .dataframe tbody tr th {\n",
       "        vertical-align: top;\n",
       "    }\n",
       "\n",
       "    .dataframe thead th {\n",
       "        text-align: right;\n",
       "    }\n",
       "</style>\n",
       "<table border=\"1\" class=\"dataframe\">\n",
       "  <thead>\n",
       "    <tr style=\"text-align: right;\">\n",
       "      <th></th>\n",
       "      <th>constructorId</th>\n",
       "      <th>duration</th>\n",
       "      <th>name</th>\n",
       "    </tr>\n",
       "  </thead>\n",
       "  <tbody>\n",
       "    <tr>\n",
       "      <th>0</th>\n",
       "      <td>131</td>\n",
       "      <td>26.898</td>\n",
       "      <td>Mercedes</td>\n",
       "    </tr>\n",
       "    <tr>\n",
       "      <th>1</th>\n",
       "      <td>3</td>\n",
       "      <td>26.898</td>\n",
       "      <td>Williams</td>\n",
       "    </tr>\n",
       "    <tr>\n",
       "      <th>2</th>\n",
       "      <td>166</td>\n",
       "      <td>26.898</td>\n",
       "      <td>Virgin</td>\n",
       "    </tr>\n",
       "    <tr>\n",
       "      <th>3</th>\n",
       "      <td>205</td>\n",
       "      <td>26.898</td>\n",
       "      <td>Lotus</td>\n",
       "    </tr>\n",
       "    <tr>\n",
       "      <th>4</th>\n",
       "      <td>10</td>\n",
       "      <td>26.898</td>\n",
       "      <td>Force India</td>\n",
       "    </tr>\n",
       "    <tr>\n",
       "      <th>...</th>\n",
       "      <td>...</td>\n",
       "      <td>...</td>\n",
       "      <td>...</td>\n",
       "    </tr>\n",
       "    <tr>\n",
       "      <th>103063</th>\n",
       "      <td>213</td>\n",
       "      <td>23.159</td>\n",
       "      <td>AlphaTauri</td>\n",
       "    </tr>\n",
       "    <tr>\n",
       "      <th>103064</th>\n",
       "      <td>117</td>\n",
       "      <td>23.159</td>\n",
       "      <td>Aston Martin</td>\n",
       "    </tr>\n",
       "    <tr>\n",
       "      <th>103065</th>\n",
       "      <td>3</td>\n",
       "      <td>23.159</td>\n",
       "      <td>Williams</td>\n",
       "    </tr>\n",
       "    <tr>\n",
       "      <th>103066</th>\n",
       "      <td>1</td>\n",
       "      <td>23.159</td>\n",
       "      <td>McLaren</td>\n",
       "    </tr>\n",
       "    <tr>\n",
       "      <th>103067</th>\n",
       "      <td>9</td>\n",
       "      <td>23.159</td>\n",
       "      <td>Red Bull</td>\n",
       "    </tr>\n",
       "  </tbody>\n",
       "</table>\n",
       "<p>103068 rows × 3 columns</p>\n",
       "</div>"
      ],
      "text/plain": [
       "        constructorId duration          name\n",
       "0                 131   26.898      Mercedes\n",
       "1                   3   26.898      Williams\n",
       "2                 166   26.898        Virgin\n",
       "3                 205   26.898         Lotus\n",
       "4                  10   26.898   Force India\n",
       "...               ...      ...           ...\n",
       "103063            213   23.159    AlphaTauri\n",
       "103064            117   23.159  Aston Martin\n",
       "103065              3   23.159      Williams\n",
       "103066              1   23.159       McLaren\n",
       "103067              9   23.159      Red Bull\n",
       "\n",
       "[103068 rows x 3 columns]"
      ]
     },
     "metadata": {},
     "output_type": "display_data"
    }
   ],
   "source": [
    "#Merging the \"pit_stops\" dataset and the \"constructor_standings\" dataset together\n",
    "merged_pitstop_constructorsstanding = pd.merge(pit_stops,\n",
    "                       constructor_standings,\n",
    "                       on = \"raceId\",\n",
    "                       how = \"left\")\n",
    "\n",
    "#Merging the \"merged_pitstop_constructorsstanding\" dataset and the \"constructors\" dataset together \n",
    "merged_pitstop_constructorsstanding_constructor = pd.merge(merged_pitstop_constructorsstanding [[\"constructorId\",\"duration\"]],\n",
    "                                       constructors[[\"constructorId\",\"name\"]],\n",
    "                                       on=\"constructorId\",\n",
    "                                       how= \"left\")\n",
    "\n",
    "display(merged_pitstop_constructorsstanding_constructor)"
   ]
  },
  {
   "cell_type": "markdown",
   "metadata": {},
   "source": [
    "<span style=\"color: green; font-size: 25px;\">Data Cleaning</span>"
   ]
  },
  {
   "cell_type": "markdown",
   "metadata": {},
   "source": [
    "The \"duration\" column in the \"pit_stops\" dataset was converted to a numeric format and stored in a new column called \"duration_sec\". Next, the dataset was sorted in ascending order based on the \"year\" column. The \"date\" column was converted from a string to a proper datetime format. Additionally, the dataset was aggregated by year to calculate the mean and standard deviation of the pit stop durations, which provides insights into trends and variability over time. "
   ]
  },
  {
   "cell_type": "code",
   "execution_count": 44,
   "metadata": {},
   "outputs": [
    {
     "data": {
      "application/vnd.microsoft.datawrangler.viewer.v0+json": {
       "columns": [
        {
         "name": "year",
         "rawType": "int64",
         "type": "integer"
        },
        {
         "name": "mean_duration",
         "rawType": "float64",
         "type": "float"
        },
        {
         "name": "std_duration",
         "rawType": "float64",
         "type": "float"
        }
       ],
       "conversionMethod": "pd.DataFrame",
       "ref": "be6ec737-2b9d-4bfe-8701-ce5657290e7c",
       "rows": [
        [
         "2011",
         "23.568104222821205",
         "4.301399773621268"
        ],
        [
         "2012",
         "23.28376955602537",
         "4.256049279879794"
        ],
        [
         "2013",
         "23.56090466101695",
         "3.7315945345560007"
        ],
        [
         "2014",
         "24.962164348925413",
         "3.670352412051389"
        ],
        [
         "2015",
         "25.27339972899729",
         "4.884302517404056"
        ],
        [
         "2016",
         "24.641467105263157",
         "4.431461024449043"
        ],
        [
         "2017",
         "24.23915851851852",
         "4.972286617919325"
        ],
        [
         "2018",
         "24.67428358208955",
         "4.378492736196579"
        ],
        [
         "2019",
         "24.870613251155625",
         "4.492828502922847"
        ],
        [
         "2020",
         "25.36324248120301",
         "4.351907010550023"
        ],
        [
         "2021",
         "25.01016715116279",
         "5.869402234773383"
        ],
        [
         "2022",
         "24.63175531914894",
         "4.988479357970566"
        ]
       ],
       "shape": {
        "columns": 2,
        "rows": 12
       }
      },
      "text/html": [
       "<div>\n",
       "<style scoped>\n",
       "    .dataframe tbody tr th:only-of-type {\n",
       "        vertical-align: middle;\n",
       "    }\n",
       "\n",
       "    .dataframe tbody tr th {\n",
       "        vertical-align: top;\n",
       "    }\n",
       "\n",
       "    .dataframe thead th {\n",
       "        text-align: right;\n",
       "    }\n",
       "</style>\n",
       "<table border=\"1\" class=\"dataframe\">\n",
       "  <thead>\n",
       "    <tr style=\"text-align: right;\">\n",
       "      <th></th>\n",
       "      <th>mean_duration</th>\n",
       "      <th>std_duration</th>\n",
       "    </tr>\n",
       "    <tr>\n",
       "      <th>year</th>\n",
       "      <th></th>\n",
       "      <th></th>\n",
       "    </tr>\n",
       "  </thead>\n",
       "  <tbody>\n",
       "    <tr>\n",
       "      <th>2011</th>\n",
       "      <td>23.568104</td>\n",
       "      <td>4.301400</td>\n",
       "    </tr>\n",
       "    <tr>\n",
       "      <th>2012</th>\n",
       "      <td>23.283770</td>\n",
       "      <td>4.256049</td>\n",
       "    </tr>\n",
       "    <tr>\n",
       "      <th>2013</th>\n",
       "      <td>23.560905</td>\n",
       "      <td>3.731595</td>\n",
       "    </tr>\n",
       "    <tr>\n",
       "      <th>2014</th>\n",
       "      <td>24.962164</td>\n",
       "      <td>3.670352</td>\n",
       "    </tr>\n",
       "    <tr>\n",
       "      <th>2015</th>\n",
       "      <td>25.273400</td>\n",
       "      <td>4.884303</td>\n",
       "    </tr>\n",
       "    <tr>\n",
       "      <th>2016</th>\n",
       "      <td>24.641467</td>\n",
       "      <td>4.431461</td>\n",
       "    </tr>\n",
       "    <tr>\n",
       "      <th>2017</th>\n",
       "      <td>24.239159</td>\n",
       "      <td>4.972287</td>\n",
       "    </tr>\n",
       "    <tr>\n",
       "      <th>2018</th>\n",
       "      <td>24.674284</td>\n",
       "      <td>4.378493</td>\n",
       "    </tr>\n",
       "    <tr>\n",
       "      <th>2019</th>\n",
       "      <td>24.870613</td>\n",
       "      <td>4.492829</td>\n",
       "    </tr>\n",
       "    <tr>\n",
       "      <th>2020</th>\n",
       "      <td>25.363242</td>\n",
       "      <td>4.351907</td>\n",
       "    </tr>\n",
       "    <tr>\n",
       "      <th>2021</th>\n",
       "      <td>25.010167</td>\n",
       "      <td>5.869402</td>\n",
       "    </tr>\n",
       "    <tr>\n",
       "      <th>2022</th>\n",
       "      <td>24.631755</td>\n",
       "      <td>4.988479</td>\n",
       "    </tr>\n",
       "  </tbody>\n",
       "</table>\n",
       "</div>"
      ],
      "text/plain": [
       "      mean_duration  std_duration\n",
       "year                             \n",
       "2011      23.568104      4.301400\n",
       "2012      23.283770      4.256049\n",
       "2013      23.560905      3.731595\n",
       "2014      24.962164      3.670352\n",
       "2015      25.273400      4.884303\n",
       "2016      24.641467      4.431461\n",
       "2017      24.239159      4.972287\n",
       "2018      24.674284      4.378493\n",
       "2019      24.870613      4.492829\n",
       "2020      25.363242      4.351907\n",
       "2021      25.010167      5.869402\n",
       "2022      24.631755      4.988479"
      ]
     },
     "metadata": {},
     "output_type": "display_data"
    }
   ],
   "source": [
    "#Convert \"duration\" column of the pit stop data set to numeric and rename them in another column caled \"duration_sec\"\n",
    "pit_stops_races_merge['duration_sec'] = pd.to_numeric(pit_stops['duration'], errors='coerce')\n",
    "\n",
    "#Sort the \"year\" colum in the pit_stops_merge dataset in ascending order \n",
    "pit_stops_races_merge.sort_values(\"year\",ascending = True)\n",
    "\n",
    "#convert data column from string to date\n",
    "pit_stops_races_merge['date_dt'] = pd.to_datetime(pit_stops_races_merge[\"date\"], format = \"%Y-%m-%d\")\n",
    "\n",
    "#aggregate merged dataset to obtain mean and standard deviation of duration\n",
    "year_agg = (pit_stops_races_merge.groupby(\"year\")\n",
    "                      .agg(mean_duration = ('duration_sec','mean'),\n",
    "                           std_duration = ('duration_sec','std')))\n",
    "display(year_agg)"
   ]
  },
  {
   "cell_type": "code",
   "execution_count": 45,
   "metadata": {},
   "outputs": [
    {
     "data": {
      "application/vnd.microsoft.datawrangler.viewer.v0+json": {
       "columns": [
        {
         "name": "index",
         "rawType": "int64",
         "type": "integer"
        },
        {
         "name": "nationality",
         "rawType": "object",
         "type": "string"
        },
        {
         "name": "mean",
         "rawType": "float64",
         "type": "float"
        },
        {
         "name": "std",
         "rawType": "float64",
         "type": "float"
        }
       ],
       "conversionMethod": "pd.DataFrame",
       "ref": "cb035cfa-b0aa-42b4-b474-e9837b7faf80",
       "rows": [
        [
         "18",
         "New Zealander",
         "23993.91176470588",
         "4846.127716070167"
        ],
        [
         "23",
         "Swiss",
         "24024.317073170732",
         "3195.6286426853817"
        ],
        [
         "19",
         "Polish",
         "24428.738095238095",
         "4032.077931033575"
        ],
        [
         "12",
         "Indian",
         "25653.596153846152",
         "4137.864554212056"
        ],
        [
         "13",
         "Indonesian",
         "25671.16",
         "4056.2778985173104"
        ],
        [
         "0",
         "American",
         "28321.545454545456",
         "4058.956155556163"
        ],
        [
         "25",
         "Venezuelan",
         "30241.158974358976",
         "79311.78807978511"
        ],
        [
         "2",
         "Belgian",
         "36787.28440366973",
         "123602.19861980548"
        ],
        [
         "22",
         "Swedish",
         "45499.67613636364",
         "149552.3382063863"
        ],
        [
         "3",
         "Brazilian",
         "51500.88461538462",
         "193551.5212696553"
        ],
        [
         "11",
         "German",
         "62824.45183175034",
         "248683.6275095329"
        ],
        [
         "6",
         "Chinese",
         "67903.44444444444",
         "200287.23334800158"
        ],
        [
         "7",
         "Danish",
         "71291.67741935483",
         "284227.3334577496"
        ],
        [
         "1",
         "Australian",
         "72766.55594405594",
         "274956.1459882078"
        ],
        [
         "4",
         "British",
         "74041.20555138784",
         "276616.8448530279"
        ],
        [
         "20",
         "Russian",
         "74995.26666666666",
         "269408.1446860507"
        ],
        [
         "10",
         "French",
         "75508.8535791757",
         "279201.4997042384"
        ],
        [
         "8",
         "Dutch",
         "76160.8216374269",
         "286513.65275715344"
        ],
        [
         "16",
         "Mexican",
         "76748.11692844678",
         "288870.68360159546"
        ],
        [
         "9",
         "Finnish",
         "76918.58974358975",
         "279459.78507711954"
        ],
        [
         "21",
         "Spanish",
         "79965.87698412698",
         "304792.9962110612"
        ],
        [
         "24",
         "Thai",
         "86898.21153846153",
         "280992.2855378419"
        ],
        [
         "14",
         "Italian",
         "88226.56684491978",
         "304526.29596109514"
        ],
        [
         "15",
         "Japanese",
         "100649.16580310882",
         "360455.59409829334"
        ],
        [
         "5",
         "Canadian",
         "117818.15030674846",
         "393204.26700169145"
        ],
        [
         "17",
         "Monegasque",
         "118787.30769230769",
         "397226.9101420047"
        ]
       ],
       "shape": {
        "columns": 3,
        "rows": 26
       }
      },
      "text/html": [
       "<div>\n",
       "<style scoped>\n",
       "    .dataframe tbody tr th:only-of-type {\n",
       "        vertical-align: middle;\n",
       "    }\n",
       "\n",
       "    .dataframe tbody tr th {\n",
       "        vertical-align: top;\n",
       "    }\n",
       "\n",
       "    .dataframe thead th {\n",
       "        text-align: right;\n",
       "    }\n",
       "</style>\n",
       "<table border=\"1\" class=\"dataframe\">\n",
       "  <thead>\n",
       "    <tr style=\"text-align: right;\">\n",
       "      <th></th>\n",
       "      <th>nationality</th>\n",
       "      <th>mean</th>\n",
       "      <th>std</th>\n",
       "    </tr>\n",
       "  </thead>\n",
       "  <tbody>\n",
       "    <tr>\n",
       "      <th>18</th>\n",
       "      <td>New Zealander</td>\n",
       "      <td>23993.911765</td>\n",
       "      <td>4846.127716</td>\n",
       "    </tr>\n",
       "    <tr>\n",
       "      <th>23</th>\n",
       "      <td>Swiss</td>\n",
       "      <td>24024.317073</td>\n",
       "      <td>3195.628643</td>\n",
       "    </tr>\n",
       "    <tr>\n",
       "      <th>19</th>\n",
       "      <td>Polish</td>\n",
       "      <td>24428.738095</td>\n",
       "      <td>4032.077931</td>\n",
       "    </tr>\n",
       "    <tr>\n",
       "      <th>12</th>\n",
       "      <td>Indian</td>\n",
       "      <td>25653.596154</td>\n",
       "      <td>4137.864554</td>\n",
       "    </tr>\n",
       "    <tr>\n",
       "      <th>13</th>\n",
       "      <td>Indonesian</td>\n",
       "      <td>25671.160000</td>\n",
       "      <td>4056.277899</td>\n",
       "    </tr>\n",
       "    <tr>\n",
       "      <th>0</th>\n",
       "      <td>American</td>\n",
       "      <td>28321.545455</td>\n",
       "      <td>4058.956156</td>\n",
       "    </tr>\n",
       "    <tr>\n",
       "      <th>25</th>\n",
       "      <td>Venezuelan</td>\n",
       "      <td>30241.158974</td>\n",
       "      <td>79311.788080</td>\n",
       "    </tr>\n",
       "    <tr>\n",
       "      <th>2</th>\n",
       "      <td>Belgian</td>\n",
       "      <td>36787.284404</td>\n",
       "      <td>123602.198620</td>\n",
       "    </tr>\n",
       "    <tr>\n",
       "      <th>22</th>\n",
       "      <td>Swedish</td>\n",
       "      <td>45499.676136</td>\n",
       "      <td>149552.338206</td>\n",
       "    </tr>\n",
       "    <tr>\n",
       "      <th>3</th>\n",
       "      <td>Brazilian</td>\n",
       "      <td>51500.884615</td>\n",
       "      <td>193551.521270</td>\n",
       "    </tr>\n",
       "    <tr>\n",
       "      <th>11</th>\n",
       "      <td>German</td>\n",
       "      <td>62824.451832</td>\n",
       "      <td>248683.627510</td>\n",
       "    </tr>\n",
       "    <tr>\n",
       "      <th>6</th>\n",
       "      <td>Chinese</td>\n",
       "      <td>67903.444444</td>\n",
       "      <td>200287.233348</td>\n",
       "    </tr>\n",
       "    <tr>\n",
       "      <th>7</th>\n",
       "      <td>Danish</td>\n",
       "      <td>71291.677419</td>\n",
       "      <td>284227.333458</td>\n",
       "    </tr>\n",
       "    <tr>\n",
       "      <th>1</th>\n",
       "      <td>Australian</td>\n",
       "      <td>72766.555944</td>\n",
       "      <td>274956.145988</td>\n",
       "    </tr>\n",
       "    <tr>\n",
       "      <th>4</th>\n",
       "      <td>British</td>\n",
       "      <td>74041.205551</td>\n",
       "      <td>276616.844853</td>\n",
       "    </tr>\n",
       "    <tr>\n",
       "      <th>20</th>\n",
       "      <td>Russian</td>\n",
       "      <td>74995.266667</td>\n",
       "      <td>269408.144686</td>\n",
       "    </tr>\n",
       "    <tr>\n",
       "      <th>10</th>\n",
       "      <td>French</td>\n",
       "      <td>75508.853579</td>\n",
       "      <td>279201.499704</td>\n",
       "    </tr>\n",
       "    <tr>\n",
       "      <th>8</th>\n",
       "      <td>Dutch</td>\n",
       "      <td>76160.821637</td>\n",
       "      <td>286513.652757</td>\n",
       "    </tr>\n",
       "    <tr>\n",
       "      <th>16</th>\n",
       "      <td>Mexican</td>\n",
       "      <td>76748.116928</td>\n",
       "      <td>288870.683602</td>\n",
       "    </tr>\n",
       "    <tr>\n",
       "      <th>9</th>\n",
       "      <td>Finnish</td>\n",
       "      <td>76918.589744</td>\n",
       "      <td>279459.785077</td>\n",
       "    </tr>\n",
       "    <tr>\n",
       "      <th>21</th>\n",
       "      <td>Spanish</td>\n",
       "      <td>79965.876984</td>\n",
       "      <td>304792.996211</td>\n",
       "    </tr>\n",
       "    <tr>\n",
       "      <th>24</th>\n",
       "      <td>Thai</td>\n",
       "      <td>86898.211538</td>\n",
       "      <td>280992.285538</td>\n",
       "    </tr>\n",
       "    <tr>\n",
       "      <th>14</th>\n",
       "      <td>Italian</td>\n",
       "      <td>88226.566845</td>\n",
       "      <td>304526.295961</td>\n",
       "    </tr>\n",
       "    <tr>\n",
       "      <th>15</th>\n",
       "      <td>Japanese</td>\n",
       "      <td>100649.165803</td>\n",
       "      <td>360455.594098</td>\n",
       "    </tr>\n",
       "    <tr>\n",
       "      <th>5</th>\n",
       "      <td>Canadian</td>\n",
       "      <td>117818.150307</td>\n",
       "      <td>393204.267002</td>\n",
       "    </tr>\n",
       "    <tr>\n",
       "      <th>17</th>\n",
       "      <td>Monegasque</td>\n",
       "      <td>118787.307692</td>\n",
       "      <td>397226.910142</td>\n",
       "    </tr>\n",
       "  </tbody>\n",
       "</table>\n",
       "</div>"
      ],
      "text/plain": [
       "      nationality           mean            std\n",
       "18  New Zealander   23993.911765    4846.127716\n",
       "23          Swiss   24024.317073    3195.628643\n",
       "19         Polish   24428.738095    4032.077931\n",
       "12         Indian   25653.596154    4137.864554\n",
       "13     Indonesian   25671.160000    4056.277899\n",
       "0        American   28321.545455    4058.956156\n",
       "25     Venezuelan   30241.158974   79311.788080\n",
       "2         Belgian   36787.284404  123602.198620\n",
       "22        Swedish   45499.676136  149552.338206\n",
       "3       Brazilian   51500.884615  193551.521270\n",
       "11         German   62824.451832  248683.627510\n",
       "6         Chinese   67903.444444  200287.233348\n",
       "7          Danish   71291.677419  284227.333458\n",
       "1      Australian   72766.555944  274956.145988\n",
       "4         British   74041.205551  276616.844853\n",
       "20        Russian   74995.266667  269408.144686\n",
       "10         French   75508.853579  279201.499704\n",
       "8           Dutch   76160.821637  286513.652757\n",
       "16        Mexican   76748.116928  288870.683602\n",
       "9         Finnish   76918.589744  279459.785077\n",
       "21        Spanish   79965.876984  304792.996211\n",
       "24           Thai   86898.211538  280992.285538\n",
       "14        Italian   88226.566845  304526.295961\n",
       "15       Japanese  100649.165803  360455.594098\n",
       "5        Canadian  117818.150307  393204.267002\n",
       "17     Monegasque  118787.307692  397226.910142"
      ]
     },
     "metadata": {},
     "output_type": "display_data"
    }
   ],
   "source": [
    "# Group the \"merge1\" dataset by nationality and aggregate the miliseconds column to calculate the mean and standard deviation\n",
    "avg_pitstop_stats = pit_stops_drivers_merge.groupby('nationality')['milliseconds'].agg(['mean', 'std']).reset_index().sort_values(by='mean', ascending=True)\n",
    "display(avg_pitstop_stats)"
   ]
  },
  {
   "cell_type": "code",
   "execution_count": 46,
   "metadata": {},
   "outputs": [],
   "source": [
    "merged_pitstop_constructorsstanding_constructor['duration_numeric'] = pd.to_numeric(merged_pitstop_constructorsstanding_constructor[\"duration\"], errors=\"coerce\")\n",
    "\n",
    "#Aggregate the \"merged_pitstop_constructorsstanding_constructor\" dataset to get the average values of the duration_sec\n",
    "results_agg = (merged_pitstop_constructorsstanding_constructor.groupby(\"name\")\n",
    "                .agg(avg_duration=('duration_numeric', 'mean'))\n",
    "                .sort_values(by=\"avg_duration\", ascending=False))"
   ]
  },
  {
   "cell_type": "markdown",
   "metadata": {},
   "source": [
    "<span style=\"color: green; font-size: 25px;\">Explanation of main columns</span>"
   ]
  },
  {
   "cell_type": "code",
   "execution_count": 47,
   "metadata": {},
   "outputs": [
    {
     "data": {
      "application/vnd.microsoft.datawrangler.viewer.v0+json": {
       "columns": [
        {
         "name": "index",
         "rawType": "object",
         "type": "string"
        },
        {
         "name": "duration_sec",
         "rawType": "float64",
         "type": "float"
        }
       ],
       "conversionMethod": "pd.DataFrame",
       "ref": "ccbda70d-fd5d-431f-ab2a-ef1ffe49d9cd",
       "rows": [
        [
         "mean_duration",
         "24.398479409228116"
        ],
        [
         "standard_duration",
         "4.571350696643751"
        ],
        [
         "minimum_duration",
         "12.897"
        ],
        [
         "maximum_duration",
         "59.555"
        ],
        [
         "count_duration",
         "9634.0"
        ]
       ],
       "shape": {
        "columns": 1,
        "rows": 5
       }
      },
      "text/html": [
       "<div>\n",
       "<style scoped>\n",
       "    .dataframe tbody tr th:only-of-type {\n",
       "        vertical-align: middle;\n",
       "    }\n",
       "\n",
       "    .dataframe tbody tr th {\n",
       "        vertical-align: top;\n",
       "    }\n",
       "\n",
       "    .dataframe thead th {\n",
       "        text-align: right;\n",
       "    }\n",
       "</style>\n",
       "<table border=\"1\" class=\"dataframe\">\n",
       "  <thead>\n",
       "    <tr style=\"text-align: right;\">\n",
       "      <th></th>\n",
       "      <th>duration_sec</th>\n",
       "    </tr>\n",
       "  </thead>\n",
       "  <tbody>\n",
       "    <tr>\n",
       "      <th>mean_duration</th>\n",
       "      <td>24.398479</td>\n",
       "    </tr>\n",
       "    <tr>\n",
       "      <th>standard_duration</th>\n",
       "      <td>4.571351</td>\n",
       "    </tr>\n",
       "    <tr>\n",
       "      <th>minimum_duration</th>\n",
       "      <td>12.897000</td>\n",
       "    </tr>\n",
       "    <tr>\n",
       "      <th>maximum_duration</th>\n",
       "      <td>59.555000</td>\n",
       "    </tr>\n",
       "    <tr>\n",
       "      <th>count_duration</th>\n",
       "      <td>9634.000000</td>\n",
       "    </tr>\n",
       "  </tbody>\n",
       "</table>\n",
       "</div>"
      ],
      "text/plain": [
       "                   duration_sec\n",
       "mean_duration         24.398479\n",
       "standard_duration      4.571351\n",
       "minimum_duration      12.897000\n",
       "maximum_duration      59.555000\n",
       "count_duration      9634.000000"
      ]
     },
     "metadata": {},
     "output_type": "display_data"
    }
   ],
   "source": [
    "# Aggregating the \"pit_stops_agg\" dataset to find the mean, standard deviation, minimum, maximum, and the total count of duration(sec)\n",
    "pit_stops_agg = pit_stops_races_merge.agg(mean_duration = ('duration_sec','mean'),\n",
    "                          standard_duration =   ('duration_sec','std'),\n",
    "                          minimum_duration =  ('duration_sec','min'),\n",
    "                          maximum_duration =  ('duration_sec','max'),\n",
    "                          count_duration   = ('duration_sec',len))\n",
    "display(pit_stops_agg)"
   ]
  },
  {
   "cell_type": "markdown",
   "metadata": {},
   "source": [
    "<span style=\"color: darkblue; font-size: 30px;\">Results</span>"
   ]
  },
  {
   "cell_type": "code",
   "execution_count": 48,
   "metadata": {},
   "outputs": [
    {
     "data": {
      "image/png": "[encoded data removed]",
      "text/plain": [
       "<Figure size 1000x600 with 1 Axes>"
      ]
     },
     "metadata": {},
     "output_type": "display_data"
    }
   ],
   "source": [
    "#produce line plot of pit stop duration over time (can later change font size, color, etc.)\n",
    "\n",
    "year_agg = year_agg.reset_index()\n",
    "\n",
    "plt.figure(figsize=(10, 6))\n",
    "plt.plot(year_agg['year'], year_agg['mean_duration'])\n",
    "plt.xlabel('Year')\n",
    "plt.ylabel('Average Pit Stop Duration(s)')\n",
    "plt.title('Average Pit Stop Duration Over Time')\n",
    "plt.grid(True)\n",
    "plt.tight_layout()\n",
    "plt.show() "
   ]
  },
  {
   "cell_type": "code",
   "execution_count": 65,
   "metadata": {},
   "outputs": [
    {
     "data": {
      "text/plain": [
       "<matplotlib.collections.PolyCollection at 0x1789657c0>"
      ]
     },
     "execution_count": 65,
     "metadata": {},
     "output_type": "execute_result"
    },
    {
     "data": {
      "image/png": "[encoded data removed]",
      "text/plain": [
       "<Figure size 640x480 with 1 Axes>"
      ]
     },
     "metadata": {},
     "output_type": "display_data"
    }
   ],
   "source": [
    "#same as above but percentage change each month\n",
    "month_config = pd.Grouper(key='date_dt', freq='ME')\n",
    "monthlyduration = (pit_stops_races_merge\n",
    "                   .groupby(month_config)\n",
    "                   .agg(duration_mean=(\"duration_sec\", \"mean\"))\n",
    "                   .reset_index()\n",
    "                   .sort_values(\"date_dt\"))\n",
    "\n",
    "monthlyduration[\"diff_duration\"] = monthlyduration[\"duration_mean\"].diff()\n",
    "monthlyduration[\"lag_duration\"] = monthlyduration[\"duration_mean\"].shift(1)\n",
    "monthlyduration[\"change_duration\"] = (monthlyduration[\"diff_duration\"]/monthlyduration[\"lag_duration\"])* 100\n",
    "\n",
    "monthlyduration[\"bool\"] = monthlyduration[\"change_duration\"] > 15\n",
    "\n",
    "plt.plot(\"date_dt\", \"change_duration\",\n",
    "          data = monthlyduration)\n",
    "plt.xlabel(\"Time\")\n",
    "plt.ylabel(\"Percent Change in Pit Stop Duration\")\n",
    "plt.grid(True)\n",
    "plt.title(\"Monthly Percent Change in Pit Stop Duration\")\n",
    "\n",
    "#highlight time points with a more significant increase in pit stop duration\n",
    "#this links to the question on pit stop time over seasons\n",
    "#I will aim to fix the gaps where there is no data\n",
    "vec_y = monthlyduration[\"change_duration\"]\n",
    "plt.fill_between(x= monthlyduration[\"date_dt\"],\n",
    "                 y1 = vec_y.min(),\n",
    "                 y2 = vec_y.max(),\n",
    "                 where = monthlyduration[\"bool\"],\n",
    "                 alpha = 0.2,color = \"red\")"
   ]
  },
  {
   "cell_type": "code",
   "execution_count": 51,
   "metadata": {},
   "outputs": [
    {
     "data": {
      "image/png": "[encoded data removed]",
      "text/plain": [
       "<Figure size 640x480 with 1 Axes>"
      ]
     },
     "metadata": {},
     "output_type": "display_data"
    }
   ],
   "source": [
    "# Plotting The Average Pit Stop Time By Team\n",
    "\n",
    "sns.barplot(x='avg_duration',y='name', data=results_agg, hue='name', palette='RdYlBu',legend=False)\n",
    "plt.xlabel('Average Pit Stop Duration (Seconds)')\n",
    "plt.ylabel('Team Name')\n",
    "plt.title('Average Pit Stop Time by Team')\n",
    "plt.show()"
   ]
  },
  {
   "cell_type": "code",
   "execution_count": 52,
   "metadata": {},
   "outputs": [
    {
     "data": {
      "image/png": "[encoded data removed]",
      "text/plain": [
       "<Figure size 640x480 with 1 Axes>"
      ]
     },
     "metadata": {},
     "output_type": "display_data"
    }
   ],
   "source": [
    "pit_stops_races_merge['duration'] = pd.to_numeric(pit_stops_races_merge['duration'], errors='coerce')\n",
    "\n",
    "plt.hist(pit_stops_races_merge['duration'], bins=30, color='skyblue', edgecolor='black')\n",
    "plt.title(\"Distribution of Pit Stop Durations\")\n",
    "plt.xlabel(\"Pit Stop Duration (seconds)\")\n",
    "plt.ylabel(\"Frequency\")\n",
    "plt.show()"
   ]
  },
  {
   "cell_type": "code",
   "execution_count": 53,
   "metadata": {},
   "outputs": [
    {
     "data": {
      "text/plain": [
       "<matplotlib.legend.Legend at 0x17846a570>"
      ]
     },
     "execution_count": 53,
     "metadata": {},
     "output_type": "execute_result"
    },
    {
     "data": {
      "image/png": "[encoded data removed]",
      "text/plain": [
       "<Figure size 640x480 with 1 Axes>"
      ]
     },
     "metadata": {},
     "output_type": "display_data"
    }
   ],
   "source": [
    "pit_stops_races_merge['duration'] = pd.to_numeric(pit_stops_races_merge['duration'], errors='coerce')\n",
    "\n",
    "filtered_data = pit_stops_races_merge.query(\"year == 2011 or year == 2016 or year == 2022\")\n",
    "\n",
    "grouped_data = filtered_data.groupby(['year'])[\"duration\"]\n",
    "\n",
    "grouped_data.plot.hist(alpha = 0.4)\n",
    "plt.xlabel(\"Pit Stop Duration (seconds)\")\n",
    "plt.ylabel(\"Frequency\")\n",
    "plt.title(\"Pit Stop Duration by Year\")\n",
    "plt.legend(title = \"Year\")"
   ]
  },
  {
   "cell_type": "code",
   "execution_count": 62,
   "metadata": {},
   "outputs": [
    {
     "data": {
      "image/png": "[encoded data removed]",
      "text/plain": [
       "<Figure size 700x700 with 2 Axes>"
      ]
     },
     "metadata": {},
     "output_type": "display_data"
    }
   ],
   "source": [
    "heatmap_data = pit_stops_races_merge.pivot_table(\n",
    "    index='name',\n",
    "    columns='year',\n",
    "    values='duration_sec',\n",
    "    aggfunc='mean'  )\n",
    "\n",
    "plt.figure(figsize=(7, 7))\n",
    "\n",
    "sns.heatmap(\n",
    "    heatmap_data,\n",
    "    cmap='magma',      \n",
    "    linewidths=0.5,       \n",
    "    linecolor='gray',\n",
    "    cbar_kws={'label': 'Pit Stop Duration (seconds)'})\n",
    "\n",
    "plt.title('Pit Stop Duration by Grand Prix and Year', fontsize=16)\n",
    "plt.xlabel('Year', fontsize=14)\n",
    "plt.ylabel('Grand Prix Name', fontsize=14)\n",
    "plt.xticks(rotation=45)\n",
    "\n",
    "plt.tight_layout()\n",
    "plt.show()"
   ]
  },
  {
   "cell_type": "markdown",
   "metadata": {},
   "source": [
    "<span style=\"color: darkblue; font-size: 30px;\">Discussion</span>"
   ]
  },
  {
   "cell_type": "markdown",
   "metadata": {},
   "source": [
    "Provide a brief 1 paragraph markdown chunk summarizing your findings.\n",
    "Describe the main things you learned from the data.\n",
    "\n",
    "From the heatmat, we can identify that the Singapore Grand Prix, Qatar Grand Prix, and Brtisih Grand Prix have consistently longer pit stop durations. This could be due to track and environmental factors. For example, the Singapore Grand Prix is a street circuit with tight pit lane entry and exit, humid conditions, and holds night races with a higher chcange of safety cars. All these factors can change team strategy and increase stop durations. This observation reflects the results in the \"Monthly Percent Change of Pit Stop Duration\", as it corresponds to the observed sharp increase in pit stop duration during September each year, as that is the time of year the Singapore Grand Prix usually takes place. Additionally, September is late in the racing season, so there may be more tactical tire management due to championship battles. \"Distribution fo Pit Stop Durations\" shows that the distribution has a positive skew, which means that there are a few extremely large observations potentially caused by malfunctions in car repair. The overlapping plot of \"Pit Stop Duration By Year\" shows that while the meidan pit stop duration increased over the years, the variation decreased as the observations are less spread out. From the graph of change in pit stop duration over time, we see that as years progress, there is a trend for pit stop duration to increase. This may be caused by regulation changes implemented over the years. For example, in 2021, new rules were enforced in September to slow down pit stops to improve safety—directly causing a spike."
   ]
  }
 ],
 "metadata": {
  "kernelspec": {
   "display_name": "base",
   "language": "python",
   "name": "python3"
  },
  "language_info": {
   "codemirror_mode": {
    "name": "ipython",
    "version": 3
   },
   "file_extension": ".py",
   "mimetype": "text/x-python",
   "name": "python",
   "nbconvert_exporter": "python",
   "pygments_lexer": "ipython3",
   "version": "3.12.7"
  }
 },
 "nbformat": 4,
 "nbformat_minor": 2
}
